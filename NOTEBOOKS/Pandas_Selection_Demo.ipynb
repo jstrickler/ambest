{
 "cells": [
  {
   "cell_type": "markdown",
   "metadata": {},
   "source": [
    "# Pandas Selection Demo\n",
    "This notebook describes the various ways of selecting rows and columns from a DataFrame."
   ]
  },
  {
   "cell_type": "markdown",
   "metadata": {},
   "source": [
    "## Imports"
   ]
  },
  {
   "cell_type": "code",
   "execution_count": 17,
   "metadata": {
    "collapsed": true
   },
   "outputs": [],
   "source": [
    "import pandas as pd\n",
    "import matplotlib.pyplot as plt"
   ]
  },
  {
   "cell_type": "markdown",
   "metadata": {},
   "source": [
    "## Sample DataFrame"
   ]
  },
  {
   "cell_type": "code",
   "execution_count": 3,
   "metadata": {},
   "outputs": [
    {
     "data": {
      "text/html": [
       "<div>\n",
       "<style>\n",
       "    .dataframe thead tr:only-child th {\n",
       "        text-align: right;\n",
       "    }\n",
       "\n",
       "    .dataframe thead th {\n",
       "        text-align: left;\n",
       "    }\n",
       "\n",
       "    .dataframe tbody tr th {\n",
       "        vertical-align: top;\n",
       "    }\n",
       "</style>\n",
       "<table border=\"1\" class=\"dataframe\">\n",
       "  <thead>\n",
       "    <tr style=\"text-align: right;\">\n",
       "      <th>fruit</th>\n",
       "      <th>apple</th>\n",
       "      <th>banana</th>\n",
       "      <th>mango</th>\n",
       "      <th>peach</th>\n",
       "      <th>kiwi</th>\n",
       "    </tr>\n",
       "    <tr>\n",
       "      <th>letters</th>\n",
       "      <th></th>\n",
       "      <th></th>\n",
       "      <th></th>\n",
       "      <th></th>\n",
       "      <th></th>\n",
       "    </tr>\n",
       "  </thead>\n",
       "  <tbody>\n",
       "    <tr>\n",
       "      <th>a</th>\n",
       "      <td>100</td>\n",
       "      <td>110</td>\n",
       "      <td>120</td>\n",
       "      <td>130</td>\n",
       "      <td>140</td>\n",
       "    </tr>\n",
       "    <tr>\n",
       "      <th>b</th>\n",
       "      <td>200</td>\n",
       "      <td>210</td>\n",
       "      <td>220</td>\n",
       "      <td>230</td>\n",
       "      <td>240</td>\n",
       "    </tr>\n",
       "    <tr>\n",
       "      <th>c</th>\n",
       "      <td>300</td>\n",
       "      <td>310</td>\n",
       "      <td>320</td>\n",
       "      <td>330</td>\n",
       "      <td>340</td>\n",
       "    </tr>\n",
       "    <tr>\n",
       "      <th>d</th>\n",
       "      <td>400</td>\n",
       "      <td>410</td>\n",
       "      <td>420</td>\n",
       "      <td>430</td>\n",
       "      <td>440</td>\n",
       "    </tr>\n",
       "    <tr>\n",
       "      <th>e</th>\n",
       "      <td>500</td>\n",
       "      <td>510</td>\n",
       "      <td>520</td>\n",
       "      <td>530</td>\n",
       "      <td>540</td>\n",
       "    </tr>\n",
       "    <tr>\n",
       "      <th>f</th>\n",
       "      <td>600</td>\n",
       "      <td>610</td>\n",
       "      <td>620</td>\n",
       "      <td>630</td>\n",
       "      <td>640</td>\n",
       "    </tr>\n",
       "    <tr>\n",
       "      <th>g</th>\n",
       "      <td>700</td>\n",
       "      <td>710</td>\n",
       "      <td>720</td>\n",
       "      <td>730</td>\n",
       "      <td>740</td>\n",
       "    </tr>\n",
       "    <tr>\n",
       "      <th>h</th>\n",
       "      <td>800</td>\n",
       "      <td>810</td>\n",
       "      <td>820</td>\n",
       "      <td>830</td>\n",
       "      <td>840</td>\n",
       "    </tr>\n",
       "    <tr>\n",
       "      <th>i</th>\n",
       "      <td>900</td>\n",
       "      <td>910</td>\n",
       "      <td>920</td>\n",
       "      <td>930</td>\n",
       "      <td>940</td>\n",
       "    </tr>\n",
       "  </tbody>\n",
       "</table>\n",
       "</div>"
      ],
      "text/plain": [
       "fruit    apple  banana  mango  peach  kiwi\n",
       "letters                                   \n",
       "a          100     110    120    130   140\n",
       "b          200     210    220    230   240\n",
       "c          300     310    320    330   340\n",
       "d          400     410    420    430   440\n",
       "e          500     510    520    530   540\n",
       "f          600     610    620    630   640\n",
       "g          700     710    720    730   740\n",
       "h          800     810    820    830   840\n",
       "i          900     910    920    930   940"
      ]
     },
     "execution_count": 3,
     "metadata": {},
     "output_type": "execute_result"
    }
   ],
   "source": [
    "column_names = pd.Index(['apple', 'banana', 'mango', 'peach', 'kiwi'], name='fruit') # column names\n",
    "\n",
    "row_names = pd.Index(['a', 'b', 'c', 'd', 'e', 'f', 'g', 'h', 'i'], name='letters')  # row names\n",
    "\n",
    "data = [\n",
    "    [100, 110, 120, 130, 140],\n",
    "    [200, 210, 220, 230, 240],\n",
    "    [300, 310, 320, 330, 340],\n",
    "    [400, 410, 420, 430, 440],\n",
    "    [500, 510, 520, 530, 540],\n",
    "    [600, 610, 620, 630, 640],\n",
    "    [700, 710, 720, 730, 740],\n",
    "    [800, 810, 820, 830, 840],\n",
    "    [900, 910, 920, 930, 940],\n",
    "]\n",
    "\n",
    "df = pd.DataFrame(data, columns=column_names, index=row_names)\n",
    "df"
   ]
  },
  {
   "cell_type": "markdown",
   "metadata": {},
   "source": [
    "## getitem (AKA [])\n",
    "The most direct way to select rows and columns is to use **[ ]**, the _getitem_ operator, on the DataFrame. "
   ]
  },
  {
   "cell_type": "markdown",
   "metadata": {},
   "source": [
    "### Selecting columns\n",
    "Use either **DF['ColumnName']** or **DF.ColumnName**. The second form can only be used if the column name is a valid Python name, consisting only of letters, digits, and underscores."
   ]
  },
  {
   "cell_type": "code",
   "execution_count": 4,
   "metadata": {},
   "outputs": [
    {
     "name": "stdout",
     "output_type": "stream",
     "text": [
      "letters\n",
      "a    100\n",
      "b    200\n",
      "c    300\n",
      "d    400\n",
      "e    500\n",
      "f    600\n",
      "g    700\n",
      "h    800\n",
      "i    900\n",
      "Name: apple, dtype: int64\n"
     ]
    }
   ],
   "source": [
    "print(df['apple'])"
   ]
  },
  {
   "cell_type": "code",
   "execution_count": 5,
   "metadata": {},
   "outputs": [
    {
     "name": "stdout",
     "output_type": "stream",
     "text": [
      "letters\n",
      "a    100\n",
      "b    200\n",
      "c    300\n",
      "d    400\n",
      "e    500\n",
      "f    600\n",
      "g    700\n",
      "h    800\n",
      "i    900\n",
      "Name: apple, dtype: int64\n"
     ]
    }
   ],
   "source": [
    "print(df.apple)"
   ]
  },
  {
   "cell_type": "markdown",
   "metadata": {},
   "source": [
    "To select more than one column, specify a list of column names."
   ]
  },
  {
   "cell_type": "code",
   "execution_count": 6,
   "metadata": {},
   "outputs": [
    {
     "name": "stdout",
     "output_type": "stream",
     "text": [
      "fruit    apple  mango\n",
      "letters              \n",
      "a          100    120\n",
      "b          200    220\n",
      "c          300    320\n",
      "d          400    420\n",
      "e          500    520\n",
      "f          600    620\n",
      "g          700    720\n",
      "h          800    820\n",
      "i          900    920\n"
     ]
    }
   ],
   "source": [
    "print(df[['apple', 'mango']])"
   ]
  },
  {
   "cell_type": "markdown",
   "metadata": {},
   "source": [
    "### Selecting rows\n",
    "To select rows by position (0-based), use a slice."
   ]
  },
  {
   "cell_type": "markdown",
   "metadata": {},
   "source": [
    "Select the first 5 rows:"
   ]
  },
  {
   "cell_type": "code",
   "execution_count": 7,
   "metadata": {},
   "outputs": [
    {
     "data": {
      "text/html": [
       "<div>\n",
       "<style>\n",
       "    .dataframe thead tr:only-child th {\n",
       "        text-align: right;\n",
       "    }\n",
       "\n",
       "    .dataframe thead th {\n",
       "        text-align: left;\n",
       "    }\n",
       "\n",
       "    .dataframe tbody tr th {\n",
       "        vertical-align: top;\n",
       "    }\n",
       "</style>\n",
       "<table border=\"1\" class=\"dataframe\">\n",
       "  <thead>\n",
       "    <tr style=\"text-align: right;\">\n",
       "      <th>fruit</th>\n",
       "      <th>apple</th>\n",
       "      <th>banana</th>\n",
       "      <th>mango</th>\n",
       "      <th>peach</th>\n",
       "      <th>kiwi</th>\n",
       "    </tr>\n",
       "    <tr>\n",
       "      <th>letters</th>\n",
       "      <th></th>\n",
       "      <th></th>\n",
       "      <th></th>\n",
       "      <th></th>\n",
       "      <th></th>\n",
       "    </tr>\n",
       "  </thead>\n",
       "  <tbody>\n",
       "    <tr>\n",
       "      <th>a</th>\n",
       "      <td>100</td>\n",
       "      <td>110</td>\n",
       "      <td>120</td>\n",
       "      <td>130</td>\n",
       "      <td>140</td>\n",
       "    </tr>\n",
       "    <tr>\n",
       "      <th>b</th>\n",
       "      <td>200</td>\n",
       "      <td>210</td>\n",
       "      <td>220</td>\n",
       "      <td>230</td>\n",
       "      <td>240</td>\n",
       "    </tr>\n",
       "    <tr>\n",
       "      <th>c</th>\n",
       "      <td>300</td>\n",
       "      <td>310</td>\n",
       "      <td>320</td>\n",
       "      <td>330</td>\n",
       "      <td>340</td>\n",
       "    </tr>\n",
       "    <tr>\n",
       "      <th>d</th>\n",
       "      <td>400</td>\n",
       "      <td>410</td>\n",
       "      <td>420</td>\n",
       "      <td>430</td>\n",
       "      <td>440</td>\n",
       "    </tr>\n",
       "    <tr>\n",
       "      <th>e</th>\n",
       "      <td>500</td>\n",
       "      <td>510</td>\n",
       "      <td>520</td>\n",
       "      <td>530</td>\n",
       "      <td>540</td>\n",
       "    </tr>\n",
       "  </tbody>\n",
       "</table>\n",
       "</div>"
      ],
      "text/plain": [
       "fruit    apple  banana  mango  peach  kiwi\n",
       "letters                                   \n",
       "a          100     110    120    130   140\n",
       "b          200     210    220    230   240\n",
       "c          300     310    320    330   340\n",
       "d          400     410    420    430   440\n",
       "e          500     510    520    530   540"
      ]
     },
     "execution_count": 7,
     "metadata": {},
     "output_type": "execute_result"
    }
   ],
   "source": [
    "df[:5]"
   ]
  },
  {
   "cell_type": "markdown",
   "metadata": {},
   "source": [
    "Select the fourth through seventh rows:"
   ]
  },
  {
   "cell_type": "code",
   "execution_count": 8,
   "metadata": {},
   "outputs": [
    {
     "data": {
      "text/html": [
       "<div>\n",
       "<style>\n",
       "    .dataframe thead tr:only-child th {\n",
       "        text-align: right;\n",
       "    }\n",
       "\n",
       "    .dataframe thead th {\n",
       "        text-align: left;\n",
       "    }\n",
       "\n",
       "    .dataframe tbody tr th {\n",
       "        vertical-align: top;\n",
       "    }\n",
       "</style>\n",
       "<table border=\"1\" class=\"dataframe\">\n",
       "  <thead>\n",
       "    <tr style=\"text-align: right;\">\n",
       "      <th>fruit</th>\n",
       "      <th>apple</th>\n",
       "      <th>banana</th>\n",
       "      <th>mango</th>\n",
       "      <th>peach</th>\n",
       "      <th>kiwi</th>\n",
       "    </tr>\n",
       "    <tr>\n",
       "      <th>letters</th>\n",
       "      <th></th>\n",
       "      <th></th>\n",
       "      <th></th>\n",
       "      <th></th>\n",
       "      <th></th>\n",
       "    </tr>\n",
       "  </thead>\n",
       "  <tbody>\n",
       "    <tr>\n",
       "      <th>d</th>\n",
       "      <td>400</td>\n",
       "      <td>410</td>\n",
       "      <td>420</td>\n",
       "      <td>430</td>\n",
       "      <td>440</td>\n",
       "    </tr>\n",
       "    <tr>\n",
       "      <th>e</th>\n",
       "      <td>500</td>\n",
       "      <td>510</td>\n",
       "      <td>520</td>\n",
       "      <td>530</td>\n",
       "      <td>540</td>\n",
       "    </tr>\n",
       "    <tr>\n",
       "      <th>f</th>\n",
       "      <td>600</td>\n",
       "      <td>610</td>\n",
       "      <td>620</td>\n",
       "      <td>630</td>\n",
       "      <td>640</td>\n",
       "    </tr>\n",
       "    <tr>\n",
       "      <th>g</th>\n",
       "      <td>700</td>\n",
       "      <td>710</td>\n",
       "      <td>720</td>\n",
       "      <td>730</td>\n",
       "      <td>740</td>\n",
       "    </tr>\n",
       "  </tbody>\n",
       "</table>\n",
       "</div>"
      ],
      "text/plain": [
       "fruit    apple  banana  mango  peach  kiwi\n",
       "letters                                   \n",
       "d          400     410    420    430   440\n",
       "e          500     510    520    530   540\n",
       "f          600     610    620    630   640\n",
       "g          700     710    720    730   740"
      ]
     },
     "execution_count": 8,
     "metadata": {},
     "output_type": "execute_result"
    }
   ],
   "source": [
    "df[3:7]"
   ]
  },
  {
   "cell_type": "markdown",
   "metadata": {},
   "source": [
    "Select the last three rows."
   ]
  },
  {
   "cell_type": "code",
   "execution_count": 9,
   "metadata": {},
   "outputs": [
    {
     "data": {
      "text/html": [
       "<div>\n",
       "<style>\n",
       "    .dataframe thead tr:only-child th {\n",
       "        text-align: right;\n",
       "    }\n",
       "\n",
       "    .dataframe thead th {\n",
       "        text-align: left;\n",
       "    }\n",
       "\n",
       "    .dataframe tbody tr th {\n",
       "        vertical-align: top;\n",
       "    }\n",
       "</style>\n",
       "<table border=\"1\" class=\"dataframe\">\n",
       "  <thead>\n",
       "    <tr style=\"text-align: right;\">\n",
       "      <th>fruit</th>\n",
       "      <th>apple</th>\n",
       "      <th>banana</th>\n",
       "      <th>mango</th>\n",
       "      <th>peach</th>\n",
       "      <th>kiwi</th>\n",
       "    </tr>\n",
       "    <tr>\n",
       "      <th>letters</th>\n",
       "      <th></th>\n",
       "      <th></th>\n",
       "      <th></th>\n",
       "      <th></th>\n",
       "      <th></th>\n",
       "    </tr>\n",
       "  </thead>\n",
       "  <tbody>\n",
       "    <tr>\n",
       "      <th>g</th>\n",
       "      <td>700</td>\n",
       "      <td>710</td>\n",
       "      <td>720</td>\n",
       "      <td>730</td>\n",
       "      <td>740</td>\n",
       "    </tr>\n",
       "    <tr>\n",
       "      <th>h</th>\n",
       "      <td>800</td>\n",
       "      <td>810</td>\n",
       "      <td>820</td>\n",
       "      <td>830</td>\n",
       "      <td>840</td>\n",
       "    </tr>\n",
       "    <tr>\n",
       "      <th>i</th>\n",
       "      <td>900</td>\n",
       "      <td>910</td>\n",
       "      <td>920</td>\n",
       "      <td>930</td>\n",
       "      <td>940</td>\n",
       "    </tr>\n",
       "  </tbody>\n",
       "</table>\n",
       "</div>"
      ],
      "text/plain": [
       "fruit    apple  banana  mango  peach  kiwi\n",
       "letters                                   \n",
       "g          700     710    720    730   740\n",
       "h          800     810    820    830   840\n",
       "i          900     910    920    930   940"
      ]
     },
     "execution_count": 9,
     "metadata": {},
     "output_type": "execute_result"
    }
   ],
   "source": [
    "df[-3:]"
   ]
  },
  {
   "cell_type": "markdown",
   "metadata": {},
   "source": [
    "## Enhanced indexers\n",
    "**loc** and **iloc** are enhanced indexers which are easy to use. Both take the following form:\n",
    "DF._indexer_[row-spec, col-spec]\n",
    "where row-spec can be one row, a list of rows, or a slice of rows. The same is true for columns. To use all rows or columns, use the slice-of-everything (**:**)."
   ]
  },
  {
   "cell_type": "markdown",
   "metadata": {},
   "source": [
    "### .loc\n",
    "**DF._loc_[ ]** is used to select both rows and columns by name. It is usually easier to use than plain **DF[ ]**."
   ]
  },
  {
   "cell_type": "code",
   "execution_count": 10,
   "metadata": {},
   "outputs": [
    {
     "name": "stdout",
     "output_type": "stream",
     "text": [
      "fruit    apple  banana  mango  peach  kiwi\n",
      "letters                                   \n",
      "b          200     210    220    230   240\n",
      "c          300     310    320    330   340\n",
      "d          400     410    420    430   440\n"
     ]
    }
   ],
   "source": [
    "print(df.loc['b':'d'])  #  DF.loc[ROW-SLICE]"
   ]
  },
  {
   "cell_type": "code",
   "execution_count": 11,
   "metadata": {},
   "outputs": [
    {
     "name": "stdout",
     "output_type": "stream",
     "text": [
      "fruit    apple  banana  mango\n",
      "letters                      \n",
      "b          200     210    220\n",
      "c          300     310    320\n",
      "d          400     410    420\n"
     ]
    }
   ],
   "source": [
    "print(df.loc['b':'d', 'apple':'mango'])  # DF.loc[ROW-SLICE, COLUMN-SLICE]"
   ]
  },
  {
   "cell_type": "code",
   "execution_count": 12,
   "metadata": {},
   "outputs": [
    {
     "name": "stdout",
     "output_type": "stream",
     "text": [
      "fruit\n",
      "apple     200\n",
      "banana    210\n",
      "mango     220\n",
      "Name: b, dtype: int64\n"
     ]
    }
   ],
   "source": [
    "print(df.loc['b', 'apple':'mango'])  # DF.loc[ROW, COLUMN-SLICE]"
   ]
  },
  {
   "cell_type": "code",
   "execution_count": 13,
   "metadata": {},
   "outputs": [
    {
     "name": "stdout",
     "output_type": "stream",
     "text": [
      "420 420 <class 'numpy.int64'>\n"
     ]
    }
   ],
   "source": [
    "x = df.loc['d','mango']\n",
    "print(str(x), repr(x), type(x))"
   ]
  },
  {
   "cell_type": "code",
   "execution_count": 14,
   "metadata": {},
   "outputs": [
    {
     "name": "stdout",
     "output_type": "stream",
     "text": [
      "273.8612787525831\n"
     ]
    }
   ],
   "source": [
    "print(df.loc[:,'mango'].std())"
   ]
  },
  {
   "cell_type": "code",
   "execution_count": 18,
   "metadata": {},
   "outputs": [
    {
     "data": {
      "image/png": "[encoded data removed]",
      "text/plain": [
       "<matplotlib.figure.Figure at 0x10f7a2a90>"
      ]
     },
     "metadata": {},
     "output_type": "display_data"
    }
   ],
   "source": [
    "df.loc[:,'mango'].plot()\n",
    "plt.show()"
   ]
  },
  {
   "cell_type": "markdown",
   "metadata": {},
   "source": [
    "### .iloc\n",
    "**DF._iloc_[ ]** is used to select both rows and columns by numerical (positional) index."
   ]
  },
  {
   "cell_type": "code",
   "execution_count": 15,
   "metadata": {},
   "outputs": [
    {
     "data": {
      "text/plain": [
       "fruit\n",
       "apple     400\n",
       "banana    410\n",
       "mango     420\n",
       "peach     430\n",
       "kiwi      440\n",
       "Name: d, dtype: int64"
      ]
     },
     "execution_count": 15,
     "metadata": {},
     "output_type": "execute_result"
    }
   ],
   "source": [
    "df.iloc[3]   # one row, returns Series"
   ]
  },
  {
   "cell_type": "code",
   "execution_count": 16,
   "metadata": {},
   "outputs": [
    {
     "data": {
      "text/html": [
       "<div>\n",
       "<style>\n",
       "    .dataframe thead tr:only-child th {\n",
       "        text-align: right;\n",
       "    }\n",
       "\n",
       "    .dataframe thead th {\n",
       "        text-align: left;\n",
       "    }\n",
       "\n",
       "    .dataframe tbody tr th {\n",
       "        vertical-align: top;\n",
       "    }\n",
       "</style>\n",
       "<table border=\"1\" class=\"dataframe\">\n",
       "  <thead>\n",
       "    <tr style=\"text-align: right;\">\n",
       "      <th>fruit</th>\n",
       "      <th>apple</th>\n",
       "      <th>banana</th>\n",
       "      <th>mango</th>\n",
       "      <th>peach</th>\n",
       "      <th>kiwi</th>\n",
       "    </tr>\n",
       "    <tr>\n",
       "      <th>letters</th>\n",
       "      <th></th>\n",
       "      <th></th>\n",
       "      <th></th>\n",
       "      <th></th>\n",
       "      <th></th>\n",
       "    </tr>\n",
       "  </thead>\n",
       "  <tbody>\n",
       "    <tr>\n",
       "      <th>b</th>\n",
       "      <td>200</td>\n",
       "      <td>210</td>\n",
       "      <td>220</td>\n",
       "      <td>230</td>\n",
       "      <td>240</td>\n",
       "    </tr>\n",
       "    <tr>\n",
       "      <th>c</th>\n",
       "      <td>300</td>\n",
       "      <td>310</td>\n",
       "      <td>320</td>\n",
       "      <td>330</td>\n",
       "      <td>340</td>\n",
       "    </tr>\n",
       "    <tr>\n",
       "      <th>d</th>\n",
       "      <td>400</td>\n",
       "      <td>410</td>\n",
       "      <td>420</td>\n",
       "      <td>430</td>\n",
       "      <td>440</td>\n",
       "    </tr>\n",
       "  </tbody>\n",
       "</table>\n",
       "</div>"
      ],
      "text/plain": [
       "fruit    apple  banana  mango  peach  kiwi\n",
       "letters                                   \n",
       "b          200     210    220    230   240\n",
       "c          300     310    320    330   340\n",
       "d          400     410    420    430   440"
      ]
     },
     "execution_count": 16,
     "metadata": {},
     "output_type": "execute_result"
    }
   ],
   "source": [
    "df.iloc[1:4]  # DF.iloc[ROW-SLICE], returns DataFame"
   ]
  },
  {
   "cell_type": "code",
   "execution_count": 17,
   "metadata": {},
   "outputs": [
    {
     "data": {
      "text/plain": [
       "340"
      ]
     },
     "execution_count": 17,
     "metadata": {},
     "output_type": "execute_result"
    }
   ],
   "source": [
    "df.iloc[2, 4]  # DF.iloc[ROW, COLUMN], returns a single value"
   ]
  },
  {
   "cell_type": "markdown",
   "metadata": {},
   "source": [
    "#### Combining .iloc with named columns"
   ]
  },
  {
   "cell_type": "code",
   "execution_count": 18,
   "metadata": {},
   "outputs": [
    {
     "data": {
      "text/plain": [
       "500"
      ]
     },
     "execution_count": 18,
     "metadata": {},
     "output_type": "execute_result"
    }
   ],
   "source": [
    "df.iloc[4]['apple'] # DF.iloc[ROW][COLUMN]"
   ]
  },
  {
   "cell_type": "code",
   "execution_count": 19,
   "metadata": {},
   "outputs": [
    {
     "data": {
      "text/plain": [
       "fruit\n",
       "apple    500\n",
       "mango    520\n",
       "Name: e, dtype: int64"
      ]
     },
     "execution_count": 19,
     "metadata": {},
     "output_type": "execute_result"
    }
   ],
   "source": [
    "df.iloc[4][['apple', 'mango']]  # df.iloc[row][COLUMN-LIST]"
   ]
  },
  {
   "cell_type": "code",
   "execution_count": 20,
   "metadata": {},
   "outputs": [
    {
     "data": {
      "text/plain": [
       "fruit\n",
       "mango    520\n",
       "apple    500\n",
       "Name: e, dtype: int64"
      ]
     },
     "execution_count": 20,
     "metadata": {},
     "output_type": "execute_result"
    }
   ],
   "source": [
    "df.iloc[4][['mango', 'apple']]  # df.iloc[row][COLUMN-LIST]"
   ]
  },
  {
   "cell_type": "markdown",
   "metadata": {},
   "source": [
    "### .ix\n",
    "**DF._ix_[ ]** was a convenience shortcut that combined .loc and .iloc and some magic inferences, but it has been deprecated."
   ]
  },
  {
   "cell_type": "code",
   "execution_count": null,
   "metadata": {
    "collapsed": true
   },
   "outputs": [],
   "source": []
  }
 ],
 "metadata": {
  "kernelspec": {
   "display_name": "Python 3",
   "language": "python",
   "name": "python3"
  },
  "language_info": {
   "codemirror_mode": {
    "name": "ipython",
    "version": 3
   },
   "file_extension": ".py",
   "mimetype": "text/x-python",
   "name": "python",
   "nbconvert_exporter": "python",
   "pygments_lexer": "ipython3",
   "version": "3.6.2"
  }
 },
 "nbformat": 4,
 "nbformat_minor": 2
}
